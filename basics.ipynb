{
 "cells": [
  {
   "cell_type": "markdown",
   "metadata": {},
   "source": []
  },
  {
   "cell_type": "markdown",
   "metadata": {},
   "source": [
    "## Ожидаемая доходность портфеля\n",
    "\\begin{align}\n",
    "E(R_p)=\\sum_{i=1}^mw_iE(R_i)\n",
    "\\end{align}"
   ]
  },
  {
   "cell_type": "code",
   "execution_count": 2,
   "metadata": {},
   "outputs": [],
   "source": [
    "def count_return(w:list, E:list) -> float:\n",
    "    R = [w * e for w, e in zip(w, E)]\n",
    "    return(sum(R))"
   ]
  },
  {
   "cell_type": "markdown",
   "metadata": {},
   "source": [
    "## Ожидаемая дисперсия доходности\n",
    "\\begin{align}\n",
    "\\sigma_p^2=\\sum_{i=1}^mw_i^2\\sigma_i^2+\\sum_i\\sum_{j}w_iw_j\\sigma_i\\sigma_j\\rho_{ij}\n",
    "\\end{align}"
   ]
  },
  {
   "cell_type": "code",
   "execution_count": 1,
   "metadata": {},
   "outputs": [],
   "source": [
    "def count_return_variance(w_1:float, w_2:float, cov:float) -> float:\n",
    "    return(w_1 * w_2 * cov)"
   ]
  },
  {
   "cell_type": "code",
   "execution_count": 6,
   "metadata": {},
   "outputs": [
    {
     "data": {
      "text/html": [
       "<div>\n",
       "<style scoped>\n",
       "    .dataframe tbody tr th:only-of-type {\n",
       "        vertical-align: middle;\n",
       "    }\n",
       "\n",
       "    .dataframe tbody tr th {\n",
       "        vertical-align: top;\n",
       "    }\n",
       "\n",
       "    .dataframe thead th {\n",
       "        text-align: right;\n",
       "    }\n",
       "</style>\n",
       "<table border=\"1\" class=\"dataframe\">\n",
       "  <thead>\n",
       "    <tr style=\"text-align: right;\">\n",
       "      <th></th>\n",
       "      <th>Date</th>\n",
       "      <th>Open</th>\n",
       "      <th>High</th>\n",
       "      <th>Low</th>\n",
       "      <th>Close</th>\n",
       "      <th>Adj Close</th>\n",
       "      <th>Volume</th>\n",
       "    </tr>\n",
       "  </thead>\n",
       "  <tbody>\n",
       "    <tr>\n",
       "      <th>0</th>\n",
       "      <td>2020-08-24</td>\n",
       "      <td>123.790001</td>\n",
       "      <td>126.059998</td>\n",
       "      <td>123.360001</td>\n",
       "      <td>125.680000</td>\n",
       "      <td>123.883621</td>\n",
       "      <td>4070800</td>\n",
       "    </tr>\n",
       "    <tr>\n",
       "      <th>1</th>\n",
       "      <td>2020-08-25</td>\n",
       "      <td>126.000000</td>\n",
       "      <td>126.820000</td>\n",
       "      <td>124.489998</td>\n",
       "      <td>124.639999</td>\n",
       "      <td>122.858490</td>\n",
       "      <td>2977700</td>\n",
       "    </tr>\n",
       "    <tr>\n",
       "      <th>2</th>\n",
       "      <td>2020-08-26</td>\n",
       "      <td>124.949997</td>\n",
       "      <td>125.120003</td>\n",
       "      <td>123.949997</td>\n",
       "      <td>124.169998</td>\n",
       "      <td>122.395203</td>\n",
       "      <td>3388300</td>\n",
       "    </tr>\n",
       "    <tr>\n",
       "      <th>3</th>\n",
       "      <td>2020-08-27</td>\n",
       "      <td>124.599998</td>\n",
       "      <td>125.099998</td>\n",
       "      <td>123.980003</td>\n",
       "      <td>124.650002</td>\n",
       "      <td>122.868347</td>\n",
       "      <td>3422700</td>\n",
       "    </tr>\n",
       "    <tr>\n",
       "      <th>4</th>\n",
       "      <td>2020-08-28</td>\n",
       "      <td>124.959999</td>\n",
       "      <td>125.300003</td>\n",
       "      <td>124.220001</td>\n",
       "      <td>125.070000</td>\n",
       "      <td>123.282341</td>\n",
       "      <td>3099600</td>\n",
       "    </tr>\n",
       "  </tbody>\n",
       "</table>\n",
       "</div>"
      ],
      "text/plain": [
       "         Date        Open        High         Low       Close   Adj Close  \\\n",
       "0  2020-08-24  123.790001  126.059998  123.360001  125.680000  123.883621   \n",
       "1  2020-08-25  126.000000  126.820000  124.489998  124.639999  122.858490   \n",
       "2  2020-08-26  124.949997  125.120003  123.949997  124.169998  122.395203   \n",
       "3  2020-08-27  124.599998  125.099998  123.980003  124.650002  122.868347   \n",
       "4  2020-08-28  124.959999  125.300003  124.220001  125.070000  123.282341   \n",
       "\n",
       "    Volume  \n",
       "0  4070800  \n",
       "1  2977700  \n",
       "2  3388300  \n",
       "3  3422700  \n",
       "4  3099600  "
      ]
     },
     "execution_count": 6,
     "metadata": {},
     "output_type": "execute_result"
    }
   ],
   "source": [
    "import numpy as np\n",
    "import pandas as pd\n",
    "import matplotlib.pyplot as plt\n",
    "\n",
    "PATH = '/home/bakunobu/pet_projects/fin_manager/data/'\n",
    "\n",
    "IBM = pd.read_csv(PATH+'IBM.csv')\n",
    "SWN = pd.read_csv(PATH+'SWN.csv')\n",
    "\n",
    "IBM.head()\n"
   ]
  },
  {
   "cell_type": "code",
   "execution_count": 14,
   "metadata": {},
   "outputs": [
    {
     "data": {
      "text/plain": [
       "1   -1.040001\n",
       "2   -0.470001\n",
       "3    0.480004\n",
       "4    0.419998\n",
       "5   -1.760002\n",
       "Name: Close, dtype: float64"
      ]
     },
     "execution_count": 14,
     "metadata": {},
     "output_type": "execute_result"
    }
   ],
   "source": [
    "ibm_d_2_d = IBM['Close']\n",
    "ibm_diff = ibm_d_2_d.diff()\n",
    "ibm_diff = ibm_diff.dropna()\n",
    "ibm_diff.head()"
   ]
  },
  {
   "cell_type": "code",
   "execution_count": 13,
   "metadata": {},
   "outputs": [
    {
     "data": {
      "text/plain": [
       "1    0.03\n",
       "2   -0.13\n",
       "3    0.08\n",
       "4   -0.03\n",
       "5   -0.08\n",
       "Name: Close, dtype: float64"
      ]
     },
     "execution_count": 13,
     "metadata": {},
     "output_type": "execute_result"
    }
   ],
   "source": [
    "swn_d_2_d = SWN['Close']\n",
    "swn_diff = swn_d_2_d.diff()\n",
    "swn_diff = swn_diff.dropna()\n",
    "swn_diff.head()"
   ]
  },
  {
   "cell_type": "code",
   "execution_count": 22,
   "metadata": {},
   "outputs": [
    {
     "data": {
      "text/html": [
       "<div>\n",
       "<style scoped>\n",
       "    .dataframe tbody tr th:only-of-type {\n",
       "        vertical-align: middle;\n",
       "    }\n",
       "\n",
       "    .dataframe tbody tr th {\n",
       "        vertical-align: top;\n",
       "    }\n",
       "\n",
       "    .dataframe thead th {\n",
       "        text-align: right;\n",
       "    }\n",
       "</style>\n",
       "<table border=\"1\" class=\"dataframe\">\n",
       "  <thead>\n",
       "    <tr style=\"text-align: right;\">\n",
       "      <th></th>\n",
       "      <th>IBM</th>\n",
       "      <th>SWN</th>\n",
       "    </tr>\n",
       "  </thead>\n",
       "  <tbody>\n",
       "    <tr>\n",
       "      <th>1</th>\n",
       "      <td>-1.040001</td>\n",
       "      <td>0.03</td>\n",
       "    </tr>\n",
       "    <tr>\n",
       "      <th>2</th>\n",
       "      <td>-0.470001</td>\n",
       "      <td>-0.13</td>\n",
       "    </tr>\n",
       "    <tr>\n",
       "      <th>3</th>\n",
       "      <td>0.480004</td>\n",
       "      <td>0.08</td>\n",
       "    </tr>\n",
       "    <tr>\n",
       "      <th>4</th>\n",
       "      <td>0.419998</td>\n",
       "      <td>-0.03</td>\n",
       "    </tr>\n",
       "    <tr>\n",
       "      <th>5</th>\n",
       "      <td>-1.760002</td>\n",
       "      <td>-0.08</td>\n",
       "    </tr>\n",
       "  </tbody>\n",
       "</table>\n",
       "</div>"
      ],
      "text/plain": [
       "        IBM   SWN\n",
       "1 -1.040001  0.03\n",
       "2 -0.470001 -0.13\n",
       "3  0.480004  0.08\n",
       "4  0.419998 -0.03\n",
       "5 -1.760002 -0.08"
      ]
     },
     "execution_count": 22,
     "metadata": {},
     "output_type": "execute_result"
    }
   ],
   "source": [
    "df = pd.DataFrame()\n",
    "df['IBM'] = ibm_diff\n",
    "df['SWN'] = swn_diff\n",
    "df.head()"
   ]
  },
  {
   "cell_type": "code",
   "execution_count": 23,
   "metadata": {},
   "outputs": [
    {
     "data": {
      "text/html": [
       "<div>\n",
       "<style scoped>\n",
       "    .dataframe tbody tr th:only-of-type {\n",
       "        vertical-align: middle;\n",
       "    }\n",
       "\n",
       "    .dataframe tbody tr th {\n",
       "        vertical-align: top;\n",
       "    }\n",
       "\n",
       "    .dataframe thead th {\n",
       "        text-align: right;\n",
       "    }\n",
       "</style>\n",
       "<table border=\"1\" class=\"dataframe\">\n",
       "  <thead>\n",
       "    <tr style=\"text-align: right;\">\n",
       "      <th></th>\n",
       "      <th>IBM</th>\n",
       "      <th>SWN</th>\n",
       "    </tr>\n",
       "  </thead>\n",
       "  <tbody>\n",
       "    <tr>\n",
       "      <th>IBM</th>\n",
       "      <td>5.196546</td>\n",
       "      <td>0.049840</td>\n",
       "    </tr>\n",
       "    <tr>\n",
       "      <th>SWN</th>\n",
       "      <td>0.049840</td>\n",
       "      <td>0.010614</td>\n",
       "    </tr>\n",
       "  </tbody>\n",
       "</table>\n",
       "</div>"
      ],
      "text/plain": [
       "          IBM       SWN\n",
       "IBM  5.196546  0.049840\n",
       "SWN  0.049840  0.010614"
      ]
     },
     "execution_count": 23,
     "metadata": {},
     "output_type": "execute_result"
    }
   ],
   "source": [
    "df.cov()"
   ]
  },
  {
   "cell_type": "code",
   "execution_count": 30,
   "metadata": {},
   "outputs": [
    {
     "name": "stdout",
     "output_type": "stream",
     "text": [
      "5.19654608271608 0.01061428571428571 0.049839757480798864\n"
     ]
    }
   ],
   "source": [
    "a = df.cov()\n",
    "print(a.iloc[0,0], a.iloc[1,1], a.iloc[1,0])"
   ]
  },
  {
   "cell_type": "code",
   "execution_count": 40,
   "metadata": {},
   "outputs": [],
   "source": [
    "sigma_1, sigma_2, covar = a.iloc[0,0], a.iloc[1,1], a.iloc[1,0]"
   ]
  },
  {
   "cell_type": "code",
   "execution_count": 35,
   "metadata": {},
   "outputs": [],
   "source": [
    "r_ibm = ibm_diff.mean()"
   ]
  },
  {
   "cell_type": "code",
   "execution_count": 36,
   "metadata": {},
   "outputs": [],
   "source": [
    "r_swn = swn_diff.mean()"
   ]
  },
  {
   "cell_type": "code",
   "execution_count": 54,
   "metadata": {},
   "outputs": [],
   "source": [
    "def stock_return(a, b):\n",
    "    RET = []\n",
    "    for x in range(11):\n",
    "        r = a * (x/10) + b * (1-x/10)\n",
    "        RET.append(r)\n",
    "    return(RET)\n",
    "\n",
    "E = stock_return(r_ibm, r_swn)\n",
    "\n",
    "def ret_var(covar):\n",
    "    VARIANCE = []\n",
    "    for x in range(11):\n",
    "        w_1 = x/10\n",
    "        w_2 = (1-x/10)\n",
    "        v = count_return_variance(w_1, w_1, covar)\n",
    "        VARIANCE.append(-v)\n",
    "    return(VARIANCE)\n",
    "\n",
    "V = ret_var(covar)"
   ]
  },
  {
   "cell_type": "code",
   "execution_count": 55,
   "metadata": {},
   "outputs": [
    {
     "data": {
      "image/png": "[encoded data removed]",
      "text/plain": [
       "<Figure size 432x288 with 1 Axes>"
      ]
     },
     "metadata": {
      "needs_background": "light"
     },
     "output_type": "display_data"
    }
   ],
   "source": [
    "indices = [x/10 for x in range(11)]\n",
    "\n",
    "plt.plot(indices, E, 'b--')\n",
    "plt.plot(indices, V, 'r.-')\n",
    "plt.show()\n"
   ]
  },
  {
   "cell_type": "code",
   "execution_count": 46,
   "metadata": {},
   "outputs": [
    {
     "name": "stdout",
     "output_type": "stream",
     "text": [
      "None\n"
     ]
    }
   ],
   "source": []
  }
 ],
 "metadata": {
  "kernelspec": {
   "display_name": "Python 3",
   "language": "python",
   "name": "python3"
  },
  "language_info": {
   "codemirror_mode": {
    "name": "ipython",
    "version": 3
   },
   "file_extension": ".py",
   "mimetype": "text/x-python",
   "name": "python",
   "nbconvert_exporter": "python",
   "pygments_lexer": "ipython3",
   "version": "3.8.5"
  }
 },
 "nbformat": 4,
 "nbformat_minor": 4
}
